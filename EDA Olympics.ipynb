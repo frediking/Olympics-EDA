{
 "cells": [
  {
   "cell_type": "code",
   "execution_count": 1,
   "id": "ddefa3fe-4f16-44d3-a132-8905c8a69300",
   "metadata": {},
   "outputs": [],
   "source": [
    "# filepath: /C:/Users/ADMIN/Downloads/EDA Olympics.py\n",
    "import os\n",
    "\n",
    "# Create folder to store plots\n",
    "output_dir = \"plots\"\n",
    "os.makedirs(output_dir, exist_ok=True)\n",
    "\n",
    "plot_counter = 1  # Global counter for file names\n",
    "\n",
    "def save_and_show():\n",
    "    global plot_counter\n",
    "    filename = os.path.join(output_dir, f\"plot_{plot_counter:02d}.png\")\n",
    "    plt.savefig(filename, dpi=300)\n",
    "    print(f\"Saved {filename}\")\n",
    "    plt.close()\n",
    "    plot_counter += 1"
   ]
  },
  {
   "cell_type": "code",
   "execution_count": 2,
   "id": "72050785-3532-41bf-9fbd-8095e0955463",
   "metadata": {},
   "outputs": [],
   "source": [
    "import pandas as pd\n",
    "import numpy as np\n",
    "import seaborn as sns\n",
    "import matplotlib.pyplot as plt"
   ]
  },
  {
   "cell_type": "code",
   "execution_count": 3,
   "id": "df6a7452-3f0b-4775-9fae-2e980d80dc6a",
   "metadata": {},
   "outputs": [
    {
     "name": "stdout",
     "output_type": "stream",
     "text": [
      "C:\\Users\\ADMIN\\Desktop\n"
     ]
    }
   ],
   "source": [
    "import os\n",
    "print(os.getcwd())"
   ]
  },
  {
   "cell_type": "code",
   "execution_count": 4,
   "id": "5c1a33e7-091e-42e7-8f7e-495811b701ee",
   "metadata": {},
   "outputs": [
    {
     "data": {
      "text/html": [
       "<div>\n",
       "<style scoped>\n",
       "    .dataframe tbody tr th:only-of-type {\n",
       "        vertical-align: middle;\n",
       "    }\n",
       "\n",
       "    .dataframe tbody tr th {\n",
       "        vertical-align: top;\n",
       "    }\n",
       "\n",
       "    .dataframe thead th {\n",
       "        text-align: right;\n",
       "    }\n",
       "</style>\n",
       "<table border=\"1\" class=\"dataframe\">\n",
       "  <thead>\n",
       "    <tr style=\"text-align: right;\">\n",
       "      <th></th>\n",
       "      <th>ID</th>\n",
       "      <th>Name</th>\n",
       "      <th>Sex</th>\n",
       "      <th>Age</th>\n",
       "      <th>Height</th>\n",
       "      <th>Weight</th>\n",
       "      <th>Team</th>\n",
       "      <th>NOC</th>\n",
       "      <th>Games</th>\n",
       "      <th>Year</th>\n",
       "      <th>Season</th>\n",
       "      <th>City</th>\n",
       "      <th>Sport</th>\n",
       "      <th>Event</th>\n",
       "      <th>Medal</th>\n",
       "    </tr>\n",
       "  </thead>\n",
       "  <tbody>\n",
       "    <tr>\n",
       "      <th>0</th>\n",
       "      <td>1</td>\n",
       "      <td>A Dijiang</td>\n",
       "      <td>M</td>\n",
       "      <td>24.0</td>\n",
       "      <td>180.0</td>\n",
       "      <td>80.0</td>\n",
       "      <td>China</td>\n",
       "      <td>CHN</td>\n",
       "      <td>1992 Summer</td>\n",
       "      <td>1992</td>\n",
       "      <td>Summer</td>\n",
       "      <td>Barcelona</td>\n",
       "      <td>Basketball</td>\n",
       "      <td>Basketball Men's Basketball</td>\n",
       "      <td>NaN</td>\n",
       "    </tr>\n",
       "    <tr>\n",
       "      <th>1</th>\n",
       "      <td>2</td>\n",
       "      <td>A Lamusi</td>\n",
       "      <td>M</td>\n",
       "      <td>23.0</td>\n",
       "      <td>170.0</td>\n",
       "      <td>60.0</td>\n",
       "      <td>China</td>\n",
       "      <td>CHN</td>\n",
       "      <td>2012 Summer</td>\n",
       "      <td>2012</td>\n",
       "      <td>Summer</td>\n",
       "      <td>London</td>\n",
       "      <td>Judo</td>\n",
       "      <td>Judo Men's Extra-Lightweight</td>\n",
       "      <td>NaN</td>\n",
       "    </tr>\n",
       "    <tr>\n",
       "      <th>2</th>\n",
       "      <td>3</td>\n",
       "      <td>Gunnar Nielsen Aaby</td>\n",
       "      <td>M</td>\n",
       "      <td>24.0</td>\n",
       "      <td>NaN</td>\n",
       "      <td>NaN</td>\n",
       "      <td>Denmark</td>\n",
       "      <td>DEN</td>\n",
       "      <td>1920 Summer</td>\n",
       "      <td>1920</td>\n",
       "      <td>Summer</td>\n",
       "      <td>Antwerpen</td>\n",
       "      <td>Football</td>\n",
       "      <td>Football Men's Football</td>\n",
       "      <td>NaN</td>\n",
       "    </tr>\n",
       "    <tr>\n",
       "      <th>3</th>\n",
       "      <td>4</td>\n",
       "      <td>Edgar Lindenau Aabye</td>\n",
       "      <td>M</td>\n",
       "      <td>34.0</td>\n",
       "      <td>NaN</td>\n",
       "      <td>NaN</td>\n",
       "      <td>Denmark/Sweden</td>\n",
       "      <td>DEN</td>\n",
       "      <td>1900 Summer</td>\n",
       "      <td>1900</td>\n",
       "      <td>Summer</td>\n",
       "      <td>Paris</td>\n",
       "      <td>Tug-Of-War</td>\n",
       "      <td>Tug-Of-War Men's Tug-Of-War</td>\n",
       "      <td>Gold</td>\n",
       "    </tr>\n",
       "    <tr>\n",
       "      <th>4</th>\n",
       "      <td>5</td>\n",
       "      <td>Christine Jacoba Aaftink</td>\n",
       "      <td>F</td>\n",
       "      <td>21.0</td>\n",
       "      <td>185.0</td>\n",
       "      <td>82.0</td>\n",
       "      <td>Netherlands</td>\n",
       "      <td>NED</td>\n",
       "      <td>1988 Winter</td>\n",
       "      <td>1988</td>\n",
       "      <td>Winter</td>\n",
       "      <td>Calgary</td>\n",
       "      <td>Speed Skating</td>\n",
       "      <td>Speed Skating Women's 500 metres</td>\n",
       "      <td>NaN</td>\n",
       "    </tr>\n",
       "  </tbody>\n",
       "</table>\n",
       "</div>"
      ],
      "text/plain": [
       "   ID                      Name Sex   Age  Height  Weight            Team  \\\n",
       "0   1                 A Dijiang   M  24.0   180.0    80.0           China   \n",
       "1   2                  A Lamusi   M  23.0   170.0    60.0           China   \n",
       "2   3       Gunnar Nielsen Aaby   M  24.0     NaN     NaN         Denmark   \n",
       "3   4      Edgar Lindenau Aabye   M  34.0     NaN     NaN  Denmark/Sweden   \n",
       "4   5  Christine Jacoba Aaftink   F  21.0   185.0    82.0     Netherlands   \n",
       "\n",
       "   NOC        Games  Year  Season       City          Sport  \\\n",
       "0  CHN  1992 Summer  1992  Summer  Barcelona     Basketball   \n",
       "1  CHN  2012 Summer  2012  Summer     London           Judo   \n",
       "2  DEN  1920 Summer  1920  Summer  Antwerpen       Football   \n",
       "3  DEN  1900 Summer  1900  Summer      Paris     Tug-Of-War   \n",
       "4  NED  1988 Winter  1988  Winter    Calgary  Speed Skating   \n",
       "\n",
       "                              Event Medal  \n",
       "0       Basketball Men's Basketball   NaN  \n",
       "1      Judo Men's Extra-Lightweight   NaN  \n",
       "2           Football Men's Football   NaN  \n",
       "3       Tug-Of-War Men's Tug-Of-War  Gold  \n",
       "4  Speed Skating Women's 500 metres   NaN  "
      ]
     },
     "execution_count": 4,
     "metadata": {},
     "output_type": "execute_result"
    }
   ],
   "source": [
    "# Read the Olympics dataset and display the first few rows\n",
    "olymp = pd.read_csv(r\"C:\\Users\\ADMIN\\Desktop\\dataset_olympics.csv\")\n",
    "olymp.head()"
   ]
  },
  {
   "cell_type": "code",
   "execution_count": 5,
   "id": "28de03d4-f953-4fef-bd91-525c5ac66f5a",
   "metadata": {},
   "outputs": [
    {
     "name": "stdout",
     "output_type": "stream",
     "text": [
      "<class 'pandas.core.frame.DataFrame'>\n",
      "RangeIndex: 70000 entries, 0 to 69999\n",
      "Data columns (total 15 columns):\n",
      " #   Column  Non-Null Count  Dtype  \n",
      "---  ------  --------------  -----  \n",
      " 0   ID      70000 non-null  int64  \n",
      " 1   Name    70000 non-null  object \n",
      " 2   Sex     70000 non-null  object \n",
      " 3   Age     67268 non-null  float64\n",
      " 4   Height  53746 non-null  float64\n",
      " 5   Weight  52899 non-null  float64\n",
      " 6   Team    70000 non-null  object \n",
      " 7   NOC     70000 non-null  object \n",
      " 8   Games   70000 non-null  object \n",
      " 9   Year    70000 non-null  int64  \n",
      " 10  Season  70000 non-null  object \n",
      " 11  City    70000 non-null  object \n",
      " 12  Sport   70000 non-null  object \n",
      " 13  Event   70000 non-null  object \n",
      " 14  Medal   9690 non-null   object \n",
      "dtypes: float64(3), int64(2), object(10)\n",
      "memory usage: 8.0+ MB\n"
     ]
    }
   ],
   "source": [
    "# Dataset Info\n",
    "olymp.info()"
   ]
  },
  {
   "cell_type": "code",
   "execution_count": 6,
   "id": "80397136-98e7-4ae1-bc31-8cf432effedf",
   "metadata": {},
   "outputs": [
    {
     "data": {
      "text/html": [
       "<div>\n",
       "<style scoped>\n",
       "    .dataframe tbody tr th:only-of-type {\n",
       "        vertical-align: middle;\n",
       "    }\n",
       "\n",
       "    .dataframe tbody tr th {\n",
       "        vertical-align: top;\n",
       "    }\n",
       "\n",
       "    .dataframe thead th {\n",
       "        text-align: right;\n",
       "    }\n",
       "</style>\n",
       "<table border=\"1\" class=\"dataframe\">\n",
       "  <thead>\n",
       "    <tr style=\"text-align: right;\">\n",
       "      <th></th>\n",
       "      <th>ID</th>\n",
       "      <th>Age</th>\n",
       "      <th>Height</th>\n",
       "      <th>Weight</th>\n",
       "      <th>Year</th>\n",
       "    </tr>\n",
       "  </thead>\n",
       "  <tbody>\n",
       "    <tr>\n",
       "      <th>count</th>\n",
       "      <td>70000.000000</td>\n",
       "      <td>67268.000000</td>\n",
       "      <td>53746.000000</td>\n",
       "      <td>52899.000000</td>\n",
       "      <td>70000.000000</td>\n",
       "    </tr>\n",
       "    <tr>\n",
       "      <th>mean</th>\n",
       "      <td>18081.846986</td>\n",
       "      <td>25.644645</td>\n",
       "      <td>175.505303</td>\n",
       "      <td>70.900216</td>\n",
       "      <td>1977.766457</td>\n",
       "    </tr>\n",
       "    <tr>\n",
       "      <th>std</th>\n",
       "      <td>10235.613253</td>\n",
       "      <td>6.485239</td>\n",
       "      <td>10.384203</td>\n",
       "      <td>14.217489</td>\n",
       "      <td>30.103306</td>\n",
       "    </tr>\n",
       "    <tr>\n",
       "      <th>min</th>\n",
       "      <td>1.000000</td>\n",
       "      <td>11.000000</td>\n",
       "      <td>127.000000</td>\n",
       "      <td>25.000000</td>\n",
       "      <td>1896.000000</td>\n",
       "    </tr>\n",
       "    <tr>\n",
       "      <th>25%</th>\n",
       "      <td>9325.750000</td>\n",
       "      <td>21.000000</td>\n",
       "      <td>168.000000</td>\n",
       "      <td>61.000000</td>\n",
       "      <td>1960.000000</td>\n",
       "    </tr>\n",
       "    <tr>\n",
       "      <th>50%</th>\n",
       "      <td>18032.000000</td>\n",
       "      <td>25.000000</td>\n",
       "      <td>175.000000</td>\n",
       "      <td>70.000000</td>\n",
       "      <td>1984.000000</td>\n",
       "    </tr>\n",
       "    <tr>\n",
       "      <th>75%</th>\n",
       "      <td>26978.000000</td>\n",
       "      <td>28.000000</td>\n",
       "      <td>183.000000</td>\n",
       "      <td>79.000000</td>\n",
       "      <td>2002.000000</td>\n",
       "    </tr>\n",
       "    <tr>\n",
       "      <th>max</th>\n",
       "      <td>35658.000000</td>\n",
       "      <td>88.000000</td>\n",
       "      <td>223.000000</td>\n",
       "      <td>214.000000</td>\n",
       "      <td>2016.000000</td>\n",
       "    </tr>\n",
       "  </tbody>\n",
       "</table>\n",
       "</div>"
      ],
      "text/plain": [
       "                 ID           Age        Height        Weight          Year\n",
       "count  70000.000000  67268.000000  53746.000000  52899.000000  70000.000000\n",
       "mean   18081.846986     25.644645    175.505303     70.900216   1977.766457\n",
       "std    10235.613253      6.485239     10.384203     14.217489     30.103306\n",
       "min        1.000000     11.000000    127.000000     25.000000   1896.000000\n",
       "25%     9325.750000     21.000000    168.000000     61.000000   1960.000000\n",
       "50%    18032.000000     25.000000    175.000000     70.000000   1984.000000\n",
       "75%    26978.000000     28.000000    183.000000     79.000000   2002.000000\n",
       "max    35658.000000     88.000000    223.000000    214.000000   2016.000000"
      ]
     },
     "execution_count": 6,
     "metadata": {},
     "output_type": "execute_result"
    }
   ],
   "source": [
    "# Summary Statistics\n",
    "olymp.describe()"
   ]
  },
  {
   "cell_type": "code",
   "execution_count": 7,
   "id": "3ce49259-f9ee-4d51-b9bd-eb4e14ee69a7",
   "metadata": {},
   "outputs": [
    {
     "data": {
      "text/html": [
       "<div>\n",
       "<style scoped>\n",
       "    .dataframe tbody tr th:only-of-type {\n",
       "        vertical-align: middle;\n",
       "    }\n",
       "\n",
       "    .dataframe tbody tr th {\n",
       "        vertical-align: top;\n",
       "    }\n",
       "\n",
       "    .dataframe thead th {\n",
       "        text-align: right;\n",
       "    }\n",
       "</style>\n",
       "<table border=\"1\" class=\"dataframe\">\n",
       "  <thead>\n",
       "    <tr style=\"text-align: right;\">\n",
       "      <th></th>\n",
       "      <th>Name</th>\n",
       "      <th>Sex</th>\n",
       "      <th>Team</th>\n",
       "      <th>NOC</th>\n",
       "      <th>Games</th>\n",
       "      <th>Season</th>\n",
       "      <th>City</th>\n",
       "      <th>Sport</th>\n",
       "      <th>Event</th>\n",
       "      <th>Medal</th>\n",
       "    </tr>\n",
       "  </thead>\n",
       "  <tbody>\n",
       "    <tr>\n",
       "      <th>count</th>\n",
       "      <td>70000</td>\n",
       "      <td>70000</td>\n",
       "      <td>70000</td>\n",
       "      <td>70000</td>\n",
       "      <td>70000</td>\n",
       "      <td>70000</td>\n",
       "      <td>70000</td>\n",
       "      <td>70000</td>\n",
       "      <td>70000</td>\n",
       "      <td>9690</td>\n",
       "    </tr>\n",
       "    <tr>\n",
       "      <th>unique</th>\n",
       "      <td>35556</td>\n",
       "      <td>2</td>\n",
       "      <td>827</td>\n",
       "      <td>226</td>\n",
       "      <td>51</td>\n",
       "      <td>2</td>\n",
       "      <td>42</td>\n",
       "      <td>65</td>\n",
       "      <td>744</td>\n",
       "      <td>3</td>\n",
       "    </tr>\n",
       "    <tr>\n",
       "      <th>top</th>\n",
       "      <td>Oksana Aleksandrovna Chusovitina</td>\n",
       "      <td>M</td>\n",
       "      <td>United States</td>\n",
       "      <td>USA</td>\n",
       "      <td>2016 Summer</td>\n",
       "      <td>Summer</td>\n",
       "      <td>London</td>\n",
       "      <td>Athletics</td>\n",
       "      <td>Football Men's Football</td>\n",
       "      <td>Gold</td>\n",
       "    </tr>\n",
       "    <tr>\n",
       "      <th>freq</th>\n",
       "      <td>29</td>\n",
       "      <td>51877</td>\n",
       "      <td>4979</td>\n",
       "      <td>5216</td>\n",
       "      <td>3675</td>\n",
       "      <td>58467</td>\n",
       "      <td>6034</td>\n",
       "      <td>10629</td>\n",
       "      <td>1738</td>\n",
       "      <td>3292</td>\n",
       "    </tr>\n",
       "  </tbody>\n",
       "</table>\n",
       "</div>"
      ],
      "text/plain": [
       "                                    Name    Sex           Team    NOC  \\\n",
       "count                              70000  70000          70000  70000   \n",
       "unique                             35556      2            827    226   \n",
       "top     Oksana Aleksandrovna Chusovitina      M  United States    USA   \n",
       "freq                                  29  51877           4979   5216   \n",
       "\n",
       "              Games  Season    City      Sport                    Event Medal  \n",
       "count         70000   70000   70000      70000                    70000  9690  \n",
       "unique           51       2      42         65                      744     3  \n",
       "top     2016 Summer  Summer  London  Athletics  Football Men's Football  Gold  \n",
       "freq           3675   58467    6034      10629                     1738  3292  "
      ]
     },
     "execution_count": 7,
     "metadata": {},
     "output_type": "execute_result"
    }
   ],
   "source": [
    "olymp.describe(include=[\"object\"])"
   ]
  },
  {
   "cell_type": "code",
   "execution_count": 8,
   "id": "1757b8c4-c578-4fd4-9e93-e2076afa5bf2",
   "metadata": {},
   "outputs": [
    {
     "data": {
      "text/plain": [
       "ID            0\n",
       "Name          0\n",
       "Sex           0\n",
       "Age        2732\n",
       "Height    16254\n",
       "Weight    17101\n",
       "Team          0\n",
       "NOC           0\n",
       "Games         0\n",
       "Year          0\n",
       "Season        0\n",
       "City          0\n",
       "Sport         0\n",
       "Event         0\n",
       "Medal     60310\n",
       "dtype: int64"
      ]
     },
     "execution_count": 8,
     "metadata": {},
     "output_type": "execute_result"
    }
   ],
   "source": [
    "# Checking for missing values \n",
    "olymp.isna().sum()"
   ]
  },
  {
   "cell_type": "code",
   "execution_count": 9,
   "id": "e59a1f23-b01c-49fa-8b99-679fdf0012a8",
   "metadata": {},
   "outputs": [
    {
     "data": {
      "text/plain": [
       "0"
      ]
     },
     "execution_count": 9,
     "metadata": {},
     "output_type": "execute_result"
    }
   ],
   "source": [
    "# Checking and removing duplicated values\n",
    "olymp.duplicated().sum()\n",
    "olymp.drop_duplicates(inplace = True)\n",
    "olymp.duplicated().sum()"
   ]
  },
  {
   "cell_type": "code",
   "execution_count": 10,
   "id": "ee1c7ec8-7e81-4ae2-80fe-7cbb07986eed",
   "metadata": {
    "scrolled": true
   },
   "outputs": [
    {
     "name": "stdout",
     "output_type": "stream",
     "text": [
      "Saved plots\\plot_01.png\n"
     ]
    }
   ],
   "source": [
    "# VISUALIZATIONS\n",
    "# Countplot for Gender Distribution \n",
    "sns.countplot(data=olymp, x=\"Sex\", color=sns.color_palette(\"viridis\", 1)[0])\n",
    "plt.title(\"Distributions by Gender\")\n",
    "save_and_show()"
   ]
  },
  {
   "cell_type": "code",
   "execution_count": 11,
   "id": "2a47dbfa-9829-47c0-8c0f-e969830e87b6",
   "metadata": {},
   "outputs": [
    {
     "name": "stdout",
     "output_type": "stream",
     "text": [
      "Saved plots\\plot_02.png\n"
     ]
    }
   ],
   "source": [
    "# Histogram: Age Distribution \n",
    "\n",
    "sns.histplot(data=olymp, x=\"Age\", bins=10, kde=True, fill=True, \n",
    "             color=sns.color_palette(\"viridis\", 1)[0], alpha=0.5)\n",
    "plt.title(\"Distribution of Age\")\n",
    "save_and_show()"
   ]
  },
  {
   "cell_type": "code",
   "execution_count": 12,
   "id": "fab51b65-c268-4a23-8a58-0829f524fa12",
   "metadata": {},
   "outputs": [
    {
     "name": "stdout",
     "output_type": "stream",
     "text": [
      "Saved plots\\plot_03.png\n"
     ]
    }
   ],
   "source": [
    "# Histogram: Height Distribution \n",
    "\n",
    "import matplotlib.cm as cm\n",
    "sns.histplot(data=olymp, x=\"Height\", bins=20, kde=True, fill=True, \n",
    "             color=sns.color_palette(\"viridis\", 1)[0], alpha=0.5)\n",
    "plt.title(\"Height Distribution\")\n",
    "save_and_show()"
   ]
  },
  {
   "cell_type": "code",
   "execution_count": 13,
   "id": "5077acd1-ab02-4bd2-a56e-a65fb0e22264",
   "metadata": {},
   "outputs": [
    {
     "name": "stdout",
     "output_type": "stream",
     "text": [
      "Saved plots\\plot_04.png\n"
     ]
    }
   ],
   "source": [
    "# Histogram: Weight Distribution \n",
    "\n",
    "sns.histplot(data=olymp, x=\"Weight\", bins=20, kde=True, fill=True, \n",
    "             color=sns.color_palette(\"cividis\", 1)[0], alpha=0.5)\n",
    "plt.title(\"Weight Distribution\")\n",
    "save_and_show()"
   ]
  },
  {
   "cell_type": "code",
   "execution_count": 14,
   "id": "2abc2822-55c6-4874-aa35-578db337a3e7",
   "metadata": {},
   "outputs": [
    {
     "data": {
      "image/png": "[encoded data removed]",
      "text/plain": [
       "<Figure size 640x480 with 1 Axes>"
      ]
     },
     "metadata": {},
     "output_type": "display_data"
    }
   ],
   "source": [
    "# Countplot: Medals Distribution \n",
    "\n",
    "sns.countplot(data=olymp, x=\"Medal\", color=sns.color_palette(\"viridis\", 1)[0])\n",
    "plt.title(\"Medals Distribution\")\n",
    "plt.show()\n"
   ]
  },
  {
   "cell_type": "code",
   "execution_count": 15,
   "id": "d0483df0-1f4c-47c4-bc54-e30ef1996953",
   "metadata": {},
   "outputs": [
    {
     "name": "stdout",
     "output_type": "stream",
     "text": [
      "Saved plots\\plot_05.png\n"
     ]
    }
   ],
   "source": [
    "# Countplot: Distribution of Medals Over the Years \n",
    "sns.countplot(data= olymp, x =\"Year\", hue = \"Medal\")\n",
    "plt.title(\"Distribution of Medals Over the Years\")\n",
    "plt.xticks(rotation = 90)\n",
    "save_and_show()"
   ]
  },
  {
   "cell_type": "code",
   "execution_count": 16,
   "id": "99559f44-d7fb-40f9-8bdc-b01ee5d4efda",
   "metadata": {},
   "outputs": [
    {
     "name": "stdout",
     "output_type": "stream",
     "text": [
      "Year\n",
      "1896    23.029412\n",
      "1900    29.119883\n",
      "1904    27.063241\n",
      "1906    26.989474\n",
      "1908    27.000000\n",
      "1912    27.965552\n",
      "1920    29.241135\n",
      "1924    28.252267\n",
      "1928    27.973564\n",
      "1932    29.606987\n",
      "1936    27.245665\n",
      "1948    28.363170\n",
      "1952    26.273684\n",
      "1956    26.316156\n",
      "1960    25.136156\n",
      "1964    24.852107\n",
      "1968    24.316722\n",
      "1972    24.126448\n",
      "1976    23.656820\n",
      "1980    23.312364\n",
      "1984    24.060328\n",
      "1988    24.257374\n",
      "1992    24.637827\n",
      "1994    24.487516\n",
      "1996    25.338210\n",
      "1998    25.143860\n",
      "2000    25.435177\n",
      "2002    26.029095\n",
      "2004    25.780111\n",
      "2006    26.091716\n",
      "2008    25.685148\n",
      "2010    26.150776\n",
      "2012    25.993485\n",
      "2014    26.082814\n",
      "2016    26.259592\n",
      "Name: Age, dtype: float64\n"
     ]
    }
   ],
   "source": [
    "#GROUP BY YEAR & CALCULATE AVERAGE AGE\n",
    "Y_avg_age = olymp.groupby(\"Year\")[\"Age\"].mean()\n",
    "print(Y_avg_age)"
   ]
  },
  {
   "cell_type": "code",
   "execution_count": 17,
   "id": "608c70ad-53b3-4ae3-aaf0-03d7f42d1da9",
   "metadata": {},
   "outputs": [
    {
     "name": "stdout",
     "output_type": "stream",
     "text": [
      "Sport\n",
      "Alpine Skiing       173.0\n",
      "Alpinism              NaN\n",
      "Archery             172.0\n",
      "Art Competitions    183.0\n",
      "Athletics           176.0\n",
      "                    ...  \n",
      "Tug-Of-War          182.0\n",
      "Volleyball          187.5\n",
      "Water Polo          185.0\n",
      "Weightlifting       168.0\n",
      "Wrestling           172.0\n",
      "Name: Height, Length: 65, dtype: float64\n"
     ]
    }
   ],
   "source": [
    "# Calculate median Height by Sport\n",
    "medianheight_sport = olymp.groupby(\"Sport\")[\"Height\"].median()\n",
    "print(medianheight_sport)"
   ]
  },
  {
   "cell_type": "code",
   "execution_count": 18,
   "id": "1e96c5b6-74eb-4fcd-9c08-2cf4832f0228",
   "metadata": {},
   "outputs": [
    {
     "name": "stdout",
     "output_type": "stream",
     "text": [
      "Max: 190.0\n",
      "Min: 164.0\n"
     ]
    }
   ],
   "source": [
    "# Maximum and Minimum values of median height of sports\n",
    "print(\"Max:\" ,medianheight_sport.max())\n",
    "print(\"Min:\" ,medianheight_sport.min())"
   ]
  },
  {
   "cell_type": "code",
   "execution_count": 19,
   "id": "1a72d464-c90e-4396-960e-43b48746f25f",
   "metadata": {},
   "outputs": [
    {
     "data": {
      "text/plain": [
       "Sport\n",
       "Basketball    190.0\n",
       "Name: Height, dtype: float64"
      ]
     },
     "execution_count": 19,
     "metadata": {},
     "output_type": "execute_result"
    }
   ],
   "source": [
    "# Sports with median height\n",
    "medianheight_sport[medianheight_sport == 190.0]"
   ]
  },
  {
   "cell_type": "code",
   "execution_count": 20,
   "id": "0f0c148e-b2b7-4f70-b5d8-a56d6ec94351",
   "metadata": {},
   "outputs": [
    {
     "name": "stdout",
     "output_type": "stream",
     "text": [
      "NOC  Sex\n",
      "AFG  M       38\n",
      "AHO  F        6\n",
      "     M       27\n",
      "ALB  F        4\n",
      "     M        7\n",
      "           ... \n",
      "YUG  M      455\n",
      "ZAM  F        3\n",
      "     M       40\n",
      "ZIM  F       41\n",
      "     M       47\n",
      "Name: ID, Length: 432, dtype: int64\n"
     ]
    }
   ],
   "source": [
    "# Count the number of participants grouped by Country (NOC) and Gender\n",
    "country_gender_count = olymp.groupby([\"NOC\" , \"Sex\"])[\"ID\"].count()\n",
    "print(country_gender_count)"
   ]
  },
  {
   "cell_type": "code",
   "execution_count": 21,
   "id": "e0a19254-de70-423a-adf0-7f96b8a1dbfe",
   "metadata": {},
   "outputs": [
    {
     "name": "stdout",
     "output_type": "stream",
     "text": [
      "Gold Medals by Country: NOC\n",
      "ALG      1\n",
      "ANZ      7\n",
      "ARG     25\n",
      "ARM      1\n",
      "AUS     98\n",
      "      ... \n",
      "URU     13\n",
      "USA    747\n",
      "UZB      4\n",
      "YUG     31\n",
      "ZIM      7\n",
      "Name: Medal, Length: 84, dtype: int64\n"
     ]
    }
   ],
   "source": [
    "# Calculate gold medals per country \n",
    "\n",
    "goldmedals_country = olymp[olymp[\"Medal\"] == \"Gold\"].groupby(\"NOC\")[\"Medal\"].count()\n",
    "print(\"Gold Medals by Country:\", goldmedals_country)"
   ]
  },
  {
   "cell_type": "code",
   "execution_count": 22,
   "id": "7641d7bf-4ead-4726-b2bd-2837fe8dc145",
   "metadata": {},
   "outputs": [
    {
     "name": "stdout",
     "output_type": "stream",
     "text": [
      "Maximum gold medals: 747\n"
     ]
    }
   ],
   "source": [
    "print(\"Maximum gold medals:\", goldmedals_country.max())"
   ]
  },
  {
   "cell_type": "code",
   "execution_count": 23,
   "id": "8bed2d55-4eb4-4a6a-8787-f1acac49b972",
   "metadata": {},
   "outputs": [
    {
     "data": {
      "text/plain": [
       "NOC\n",
       "USA    747\n",
       "Name: Medal, dtype: int64"
      ]
     },
     "execution_count": 23,
     "metadata": {},
     "output_type": "execute_result"
    }
   ],
   "source": [
    "# Countries with 747 Gold Medals\n",
    "goldmedals_country[goldmedals_country == 747]"
   ]
  },
  {
   "cell_type": "code",
   "execution_count": 24,
   "id": "ba7311c7-e6fc-4cd7-af32-52e4f9bd510c",
   "metadata": {},
   "outputs": [
    {
     "name": "stdout",
     "output_type": "stream",
     "text": [
      "58.16901408450704\n"
     ]
    }
   ],
   "source": [
    "# Calculate average Weight by Sport and Gender\n",
    "avgweight_sport_gender = olymp.groupby([\"Sport\", \"Sex\"])[\"Weight\"].mean()\n",
    "\n",
    "# Average Weight for Wrestling (Female)\n",
    "print(avgweight_sport_gender[\"Wrestling\"][\"F\"])"
   ]
  },
  {
   "cell_type": "code",
   "execution_count": 25,
   "id": "c8900ccd-e78e-44cc-ad7d-957a0bb68874",
   "metadata": {},
   "outputs": [
    {
     "name": "stdout",
     "output_type": "stream",
     "text": [
      "Saved plots\\plot_06.png\n"
     ]
    }
   ],
   "source": [
    "# Bar Chart: Number of Unique Events per Sport \n",
    "\n",
    "sportevent_count = olymp.groupby(\"Sport\")[\"Event\"].nunique().sort_values(ascending = False)\n",
    "colors= plt.cm.viridis(np.linspace(0, 1, len(sportevent_count)))\n",
    "plt.figure(figsize=(14, 7))\n",
    "bars = sportevent_count.plot(kind = \"bar\",color=colors)\n",
    "plt.title(\"Number of Unique Events per sport\")\n",
    "plt.xlabel(\"Sport\")\n",
    "plt.ylabel(\"Number of Unique Events\")\n",
    "plt.xticks(rotation = 90, fontsize=8)\n",
    "plt.tight_layout()\n",
    "save_and_show()"
   ]
  },
  {
   "cell_type": "code",
   "execution_count": 26,
   "id": "1e72c5d7-0d1a-4eb9-b4bb-5deddd9f6e32",
   "metadata": {},
   "outputs": [
    {
     "name": "stdout",
     "output_type": "stream",
     "text": [
      "Saved plots\\plot_07.png\n"
     ]
    }
   ],
   "source": [
    "# Line Plot: Number of Participants Over the Years \n",
    "\n",
    "YearParticipant_count = olymp.groupby(\"Year\")[\"ID\"].nunique()\n",
    "plt.figure(figsize=(10, 5))\n",
    "plt.plot(YearParticipant_count, marker='o', linestyle='-', \n",
    "         color=sns.color_palette(\"viridis\", 1)[0], linewidth=2, markersize=6)\n",
    "\n",
    "plt.title(\"Number of Participants Over the Years\", fontsize=12, fontweight='bold', color='black')\n",
    "plt.xlabel(\"Year\", fontsize=10, fontweight='bold')\n",
    "plt.ylabel(\"Number of Participants\", fontsize=10, fontweight='bold')\n",
    "\n",
    "plt.grid(True, linestyle=\"--\", alpha=0.5)\n",
    "plt.xticks(rotation=45, fontsize=8)\n",
    "plt.yticks(fontsize=8)\n",
    "save_and_show()"
   ]
  },
  {
   "cell_type": "code",
   "execution_count": 27,
   "id": "3a5b50bd-92de-4ecf-a370-ed0f3ab5f282",
   "metadata": {},
   "outputs": [
    {
     "name": "stdout",
     "output_type": "stream",
     "text": [
      "Saved plots\\plot_08.png\n"
     ]
    }
   ],
   "source": [
    "# ALTERNATE BAR PLOT VISUALIZATION FOR THE LINE PLOT OF THE NUMBER OF PARTICIPANT OVER THE YEARS \n",
    "\n",
    "YearParticipant_count = olymp.groupby(\"Year\")[\"ID\"].nunique()\n",
    "colors= plt.cm.viridis(np.linspace(0, 1, len(YearParticipant_count)))\n",
    "plt.figure(figsize=(14, 7))\n",
    "bars = YearParticipant_count.plot(kind = \"bar\",color=colors)\n",
    "plt.title(\"Number of participants over the years\")\n",
    "plt.xlabel(\"Year\")\n",
    "plt.ylabel(\"Number of Participants\")\n",
    "save_and_show()"
   ]
  },
  {
   "cell_type": "code",
   "execution_count": 28,
   "id": "ee6b79b3-045f-49fa-8e68-a261cbe02585",
   "metadata": {},
   "outputs": [
    {
     "name": "stdout",
     "output_type": "stream",
     "text": [
      "Saved plots\\plot_09.png\n"
     ]
    }
   ],
   "source": [
    "# Bar Plot: Top 10 Countries with the Highest Average Age \n",
    "\n",
    "country_avg_age = olymp.groupby(\"NOC\")[\"Age\"].mean().sort_values(ascending = False)\n",
    "plt.figure(figsize=(14, 7))\n",
    "colors= plt.cm.viridis(np.linspace(0, 1, len(country_avg_age.head(10))))\n",
    "bars = country_avg_age.head(10).plot(kind = \"bar\",color=colors)\n",
    "plt.title(\"Top 10 countries with the Highest Average age of participants\")\n",
    "plt.xlabel(\"Country\")\n",
    "plt.ylabel(\"Average Age\")\n",
    "plt.xticks(rotation = 90)\n",
    "save_and_show()"
   ]
  },
  {
   "cell_type": "code",
   "execution_count": 29,
   "id": "280cb633-25ab-43a8-bb71-82ab2a578eba",
   "metadata": {},
   "outputs": [
    {
     "name": "stdout",
     "output_type": "stream",
     "text": [
      "Saved plots\\plot_10.png\n"
     ]
    }
   ],
   "source": [
    "# Bar Plot: Top 10 Countries with the Lowest Average Age\n",
    "# Show the lowest \"country_avg_age\" by using the 'tail()' function to view from the bottom\n",
    "\n",
    "country_avg_age = olymp.groupby(\"NOC\")[\"Age\"].mean().sort_values(ascending = False)\n",
    "plt.figure(figsize=(14, 7))\n",
    "colors= plt.cm.viridis(np.linspace(0, 1, len(country_avg_age.tail(10))))\n",
    "bars = country_avg_age.tail(10).plot(kind = \"bar\",color=colors)\n",
    "plt.title(\"Top 10 countries with the Lowest Average age of participants\")\n",
    "plt.xlabel(\"Country\")\n",
    "plt.ylabel(\"Average Age\")\n",
    "plt.xticks(rotation = 90)\n",
    "save_and_show()"
   ]
  },
  {
   "cell_type": "code",
   "execution_count": 30,
   "id": "7e3dc3f3-7108-4b5d-9d41-e798b709719e",
   "metadata": {},
   "outputs": [
    {
     "name": "stderr",
     "output_type": "stream",
     "text": [
      "C:\\Users\\ADMIN\\AppData\\Local\\Temp\\ipykernel_11348\\1609190677.py:3: FutureWarning: \n",
      "\n",
      "Passing `palette` without assigning `hue` is deprecated and will be removed in v0.14.0. Assign the `x` variable to `hue` and set `legend=False` for the same effect.\n",
      "\n",
      "  sns.boxplot(data = olymp, x = \"Season\", y = \"Age\", palette=\"viridis\")\n"
     ]
    },
    {
     "name": "stdout",
     "output_type": "stream",
     "text": [
      "Saved plots\\plot_11.png\n"
     ]
    }
   ],
   "source": [
    "# Boxplot: Age Distributions by Season \n",
    "plt.figure(figsize=(10, 6))\n",
    "sns.boxplot(data = olymp, x = \"Season\", y = \"Age\", palette=\"viridis\")\n",
    "plt.title(\"Distributions of Ages by Seasons\")\n",
    "plt.xlabel(\"Season\")\n",
    "plt.ylabel(\"Age\")\n",
    "save_and_show()"
   ]
  },
  {
   "cell_type": "code",
   "execution_count": 31,
   "id": "8dab0bcb-d2dd-4ee1-af21-f9e38c7dc0c3",
   "metadata": {},
   "outputs": [
    {
     "name": "stderr",
     "output_type": "stream",
     "text": [
      "C:\\Users\\ADMIN\\AppData\\Local\\Temp\\ipykernel_11348\\1733967485.py:3: FutureWarning: \n",
      "\n",
      "Passing `palette` without assigning `hue` is deprecated and will be removed in v0.14.0. Assign the `x` variable to `hue` and set `legend=False` for the same effect.\n",
      "\n",
      "  sns.violinplot(data=olymp, x=\"Medal\", y=\"Height\", palette=\"viridis\")\n"
     ]
    },
    {
     "name": "stdout",
     "output_type": "stream",
     "text": [
      "Saved plots\\plot_12.png\n"
     ]
    }
   ],
   "source": [
    "# Violin Plot: Height Distribution by Medal \n",
    "# Update palette from Set2 to viridis for a modern look\n",
    "sns.violinplot(data=olymp, x=\"Medal\", y=\"Height\", palette=\"viridis\")\n",
    "plt.title(\"Distribution of Heights by Medal\")\n",
    "plt.xlabel(\"Medal\")\n",
    "plt.ylabel(\"Height\")\n",
    "save_and_show()"
   ]
  },
  {
   "cell_type": "code",
   "execution_count": 32,
   "id": "d923f0b1-f39b-4db2-8ab1-e7f7f463dc08",
   "metadata": {},
   "outputs": [
    {
     "name": "stdout",
     "output_type": "stream",
     "text": [
      "Most Awarded Country(Medals): USA\n"
     ]
    }
   ],
   "source": [
    "# COUNTRY WITH THE MOST MEDALS\n",
    "country_mostmedals = olymp[\"NOC\"].value_counts().idxmax()\n",
    "print(\"Most Awarded Country(Medals):\", country_mostmedals)"
   ]
  },
  {
   "cell_type": "code",
   "execution_count": 33,
   "id": "97848599-37fa-4846-9b57-74f8a6a53207",
   "metadata": {},
   "outputs": [
    {
     "name": "stdout",
     "output_type": "stream",
     "text": [
      "Tallest Athlete:\n",
      "          ID                  Name  Height       Sport  Year\n",
      "32376  16639  Tommy Loren Burleson   223.0  Basketball  1972\n"
     ]
    }
   ],
   "source": [
    "# Tallest Athlete\n",
    "tallest_athlete = olymp[olymp[\"Height\"] == olymp[\"Height\"].max()]\n",
    "print(\"Tallest Athlete:\")\n",
    "print(tallest_athlete[[\"ID\", \"Name\", \"Height\", \"Sport\",\"Year\"]])"
   ]
  },
  {
   "cell_type": "code",
   "execution_count": 34,
   "id": "d0df6875-df43-4688-9343-f7afa08b1f89",
   "metadata": {},
   "outputs": [
    {
     "name": "stdout",
     "output_type": "stream",
     "text": [
      "Shortest Athlete:\n",
      "          ID             Name  Height       Sport  Year  \\\n",
      "29333  15150  Rosario Briones   127.0  Gymnastics  1968   \n",
      "29334  15150  Rosario Briones   127.0  Gymnastics  1968   \n",
      "29335  15150  Rosario Briones   127.0  Gymnastics  1968   \n",
      "29336  15150  Rosario Briones   127.0  Gymnastics  1968   \n",
      "29337  15150  Rosario Briones   127.0  Gymnastics  1968   \n",
      "29338  15150  Rosario Briones   127.0  Gymnastics  1968   \n",
      "\n",
      "                                          Event  \n",
      "29333  Gymnastics Women's Individual All-Around  \n",
      "29334        Gymnastics Women's Team All-Around  \n",
      "29335         Gymnastics Women's Floor Exercise  \n",
      "29336            Gymnastics Women's Horse Vault  \n",
      "29337            Gymnastics Women's Uneven Bars  \n",
      "29338           Gymnastics Women's Balance Beam  \n"
     ]
    }
   ],
   "source": [
    "# Shortest Athlete\n",
    "shortest_athlete = olymp[olymp[\"Height\"] == olymp[\"Height\"].min()]\n",
    "print(\"Shortest Athlete:\")\n",
    "print(shortest_athlete[[\"ID\",\"Name\", \"Height\", \"Sport\", \"Year\",\"Event\"]])"
   ]
  },
  {
   "cell_type": "code",
   "execution_count": 35,
   "id": "db6afe8c-2080-47d0-b98b-83df9c648ab7",
   "metadata": {},
   "outputs": [
    {
     "name": "stdout",
     "output_type": "stream",
     "text": [
      "Heaviest Athlete:\n",
      "          ID               Name  Height Sport  Year                   Event\n",
      "23155  12177  Ricardo Blas, Jr.   183.0  Judo  2008  Judo Men's Heavyweight\n",
      "23156  12177  Ricardo Blas, Jr.   183.0  Judo  2012  Judo Men's Heavyweight\n"
     ]
    }
   ],
   "source": [
    "# Heaviest Athlete\n",
    "\n",
    "heaviest_athlete = olymp[olymp[\"Weight\"] == olymp[\"Weight\"].max()]\n",
    "print(\"Heaviest Athlete:\")\n",
    "print(heaviest_athlete[[\"ID\", \"Name\", \"Height\", \"Sport\", \"Year\",\"Event\"]])"
   ]
  },
  {
   "cell_type": "code",
   "execution_count": 36,
   "id": "602f4cb7-b2e5-4dca-a0cc-254984869513",
   "metadata": {},
   "outputs": [
    {
     "name": "stdout",
     "output_type": "stream",
     "text": [
      "Saved plots\\plot_13.png\n"
     ]
    }
   ],
   "source": [
    "# Scatter Plot: Athlete Height vs Weight by Medal Status \n",
    "\n",
    "sns.scatterplot(data = olymp, x = \"Height\", y = \"Weight\", hue = \"Medal\", palette = \"Set2\")\n",
    "plt.title(\"Athlete Height vs Weight by Medal Status\")\n",
    "plt.xlabel(\"Height\")\n",
    "plt.ylabel(\"Weight\")\n",
    "plt.legend(title = \"Medal\")\n",
    "save_and_show()"
   ]
  },
  {
   "cell_type": "code",
   "execution_count": 37,
   "id": "17d40db9-95e3-445d-9186-1b9a9257a8f1",
   "metadata": {},
   "outputs": [
    {
     "name": "stdout",
     "output_type": "stream",
     "text": [
      "Saved plots\\plot_14.png\n"
     ]
    }
   ],
   "source": [
    "# Heatmap: Medal Counts by Country and Year \n",
    "MedalsbyCountry_year = olymp.pivot_table(index = \"NOC\", columns = \"Year\", values = \"Medal\", aggfunc = \"count\")\n",
    "sns.heatmap(MedalsbyCountry_year, cmap = \"viridis\", linewidths = 0.5)\n",
    "plt.title(\"Medal Counts by Country and Year\")\n",
    "plt.xlabel(\"Year\")\n",
    "plt.ylabel(\"Country\")\n",
    "plt.xticks(rotation = 90, fontsize=8)\n",
    "save_and_show()"
   ]
  }
 ],
 "metadata": {
  "kernelspec": {
   "display_name": "Python [conda env:base] *",
   "language": "python",
   "name": "conda-base-py"
  },
  "language_info": {
   "codemirror_mode": {
    "name": "ipython",
    "version": 3
   },
   "file_extension": ".py",
   "mimetype": "text/x-python",
   "name": "python",
   "nbconvert_exporter": "python",
   "pygments_lexer": "ipython3",
   "version": "3.12.7"
  }
 },
 "nbformat": 4,
 "nbformat_minor": 5
}
